{
  "nbformat": 4,
  "nbformat_minor": 0,
  "metadata": {
    "colab": {
      "provenance": [],
      "include_colab_link": true
    },
    "kernelspec": {
      "name": "python3",
      "display_name": "Python 3"
    },
    "language_info": {
      "name": "python"
    }
  },
  "cells": [
    {
      "cell_type": "markdown",
      "metadata": {
        "id": "view-in-github",
        "colab_type": "text"
      },
      "source": [
        "<a href=\"https://colab.research.google.com/github/Odigie43/Prediction-on-development-on-various-communities/blob/main/infrastructural_development_.ipynb\" target=\"_parent\"><img src=\"https://colab.research.google.com/assets/colab-badge.svg\" alt=\"Open In Colab\"/></a>"
      ]
    },
    {
      "cell_type": "code",
      "execution_count": null,
      "metadata": {
        "colab": {
          "base_uri": "https://localhost:8080/"
        },
        "id": "9y9eZa5or4me",
        "outputId": "ee6e8300-e09f-4c9a-b729-3e350a13cf20"
      },
      "outputs": [
        {
          "output_type": "stream",
          "name": "stdout",
          "text": [
            "Mounted at /content/drive\n"
          ]
        }
      ],
      "source": [
        "from google.colab import drive\n",
        "drive.mount('/content/drive')"
      ]
    },
    {
      "cell_type": "markdown",
      "source": [
        "Drive module import: The drive module is imported from the google.colab library in the first line. Working with Google Drive in Google Colab is made possible by this module.\n",
        "\n",
        "Mounting Google Drive: You can mount your Google Drive in the Colab environment by using the second line of code. This code will generate a link when it is executed. You will receive a code after clicking the link and granting access to your Google Drive. This code may be copied and pasted back into the Colab cell to mount your Google Drive to the preferred path—in this example, '/content/drive').\n",
        "\n",
        "You will be able to use your Colab notebook to access your Google Drive directly after running this code. When you wish to read or save files to and from your Google Drive inside of the Colab environment, this is helpful."
      ],
      "metadata": {
        "id": "0pL9XJgHucu7"
      }
    },
    {
      "cell_type": "code",
      "source": [
        "# importing all the libraries for the work and seaborn is for plotting\n",
        "# numpy, pandas and matplot for feature engineering,descriptive analysis etc\n",
        "import numpy as np\n",
        "import pandas as pd\n",
        "import seaborn as sns\n",
        "import matplotlib.pyplot as plt\n",
        "%matplotlib inline"
      ],
      "metadata": {
        "id": "O1W911JwueLZ"
      },
      "execution_count": null,
      "outputs": []
    },
    {
      "cell_type": "markdown",
      "source": [
        "Remarks: The lines that begin with # are comments. Comments are meant to help human readers comprehend the objective of the code; they are not executed as code.\n",
        "\n",
        "How to Import Libraries\n",
        "\n",
        "NumPy: NumPy is a Python library for numerical computations. Large, multidimensional arrays and matrices are supported, as are mathematical operations on these arrays.\n",
        "\n",
        "Pandas (pd): Pandas is a package for data manipulation and analysis. It offers data structures that are effective for handling structured data, such as DataFrames.\n",
        "\n",
        "Seaborn: Seaborn is a Matplotlib-based library for data visualisation. It offers an advanced drawing interface for creating eye-catching and educational statistical visuals."
      ],
      "metadata": {
        "id": "pT7oiuvVumGN"
      }
    },
    {
      "cell_type": "code",
      "source": [
        "default = pd.read_csv('/content/drive/MyDrive/census03.csv')"
      ],
      "metadata": {
        "id": "l1ekcVgPur0N"
      },
      "execution_count": null,
      "outputs": []
    },
    {
      "cell_type": "code",
      "source": [
        "import pandas as pd\n",
        "\n",
        "# Load the dataset\n",
        "file_path = '/content/drive/MyDrive/census03.csv'\n",
        "census_data = pd.read_csv(file_path)\n"
      ],
      "metadata": {
        "id": "COVmUeMT0Z33"
      },
      "execution_count": null,
      "outputs": []
    },
    {
      "cell_type": "markdown",
      "source": [
        "Pd.read_csv is the abbreviation for the Pandas library, and read_csv is a function that Pandas offers. Data from a CSV file can be read using this function.\n",
        "\n",
        "\"/content/ify dataset.csv\" is the file path of the CSV file that you wish to view. The '/content/' directory is where the file 'ify dataset.csv' should be saved. In Google Colab, an online environment for executing Python code, the route /content/ is a frequent directory.\n",
        "\n",
        "default =...: The value obtained from reading the CSV file is put into the variable called default. Thus, a variable named default now contains the information from the CSV file.\n",
        "\n",
        "Simply expressed, this piece of code says, \"Read the data from the CSV file named 'ify dataset.csv' and store it in a variable called default.\" You can use the default variable to work with the data from the CSV file in your Python code after running this line. Data science and analysis tasks frequently use this method to load and alter data."
      ],
      "metadata": {
        "id": "wLLJmnL8u2iU"
      }
    },
    {
      "cell_type": "code",
      "source": [
        "print(census_data.head())\n"
      ],
      "metadata": {
        "colab": {
          "base_uri": "https://localhost:8080/"
        },
        "id": "V9PgKE_31I_0",
        "outputId": "ae5053aa-4143-4812-80e9-39a0ca44bb56"
      },
      "execution_count": null,
      "outputs": [
        {
          "output_type": "stream",
          "name": "stdout",
          "text": [
            "   House Number        Street First Name   Surname Age  \\\n",
            "0             1  Gray Centers       Rita      Owen  50   \n",
            "1             2  Gray Centers      Amber     James  21   \n",
            "2             3  Gray Centers     Oliver  Campbell  58   \n",
            "3             3  Gray Centers  Christine  Campbell  50   \n",
            "4             4  Gray Centers     Gordon     Miles  79   \n",
            "\n",
            "  Relationship to Head of House Marital Status  Gender  \\\n",
            "0                          Head         Single  Female   \n",
            "1                          Head         Single  Female   \n",
            "2                          Head        Married    Male   \n",
            "3                          Wife        Married  Female   \n",
            "4                          Head        Widowed    Male   \n",
            "\n",
            "                              Occupation Infirmity   Religion  \n",
            "0                          Media planner      None  Christian  \n",
            "1                     University Student      None     Muslim  \n",
            "2                     Professor Emeritus      None  Christian  \n",
            "3  Engineer, control and instrumentation      None       None  \n",
            "4                  Retired Retail banker      None  Christian  \n"
          ]
        }
      ]
    },
    {
      "cell_type": "code",
      "source": [
        "census_data.head()\n"
      ],
      "metadata": {
        "colab": {
          "base_uri": "https://localhost:8080/",
          "height": 206
        },
        "id": "qcvLTYil1Vd7",
        "outputId": "b1038577-d6f3-4190-d3e6-afa66b1485ad"
      },
      "execution_count": null,
      "outputs": [
        {
          "output_type": "execute_result",
          "data": {
            "text/plain": [
              "   House Number        Street First Name   Surname Age  \\\n",
              "0             1  Gray Centers       Rita      Owen  50   \n",
              "1             2  Gray Centers      Amber     James  21   \n",
              "2             3  Gray Centers     Oliver  Campbell  58   \n",
              "3             3  Gray Centers  Christine  Campbell  50   \n",
              "4             4  Gray Centers     Gordon     Miles  79   \n",
              "\n",
              "  Relationship to Head of House Marital Status  Gender  \\\n",
              "0                          Head         Single  Female   \n",
              "1                          Head         Single  Female   \n",
              "2                          Head        Married    Male   \n",
              "3                          Wife        Married  Female   \n",
              "4                          Head        Widowed    Male   \n",
              "\n",
              "                              Occupation Infirmity   Religion  \n",
              "0                          Media planner      None  Christian  \n",
              "1                     University Student      None     Muslim  \n",
              "2                     Professor Emeritus      None  Christian  \n",
              "3  Engineer, control and instrumentation      None       None  \n",
              "4                  Retired Retail banker      None  Christian  "
            ],
            "text/html": [
              "\n",
              "  <div id=\"df-30cef3d8-a755-490e-8e9c-a605b204b90c\" class=\"colab-df-container\">\n",
              "    <div>\n",
              "<style scoped>\n",
              "    .dataframe tbody tr th:only-of-type {\n",
              "        vertical-align: middle;\n",
              "    }\n",
              "\n",
              "    .dataframe tbody tr th {\n",
              "        vertical-align: top;\n",
              "    }\n",
              "\n",
              "    .dataframe thead th {\n",
              "        text-align: right;\n",
              "    }\n",
              "</style>\n",
              "<table border=\"1\" class=\"dataframe\">\n",
              "  <thead>\n",
              "    <tr style=\"text-align: right;\">\n",
              "      <th></th>\n",
              "      <th>House Number</th>\n",
              "      <th>Street</th>\n",
              "      <th>First Name</th>\n",
              "      <th>Surname</th>\n",
              "      <th>Age</th>\n",
              "      <th>Relationship to Head of House</th>\n",
              "      <th>Marital Status</th>\n",
              "      <th>Gender</th>\n",
              "      <th>Occupation</th>\n",
              "      <th>Infirmity</th>\n",
              "      <th>Religion</th>\n",
              "    </tr>\n",
              "  </thead>\n",
              "  <tbody>\n",
              "    <tr>\n",
              "      <th>0</th>\n",
              "      <td>1</td>\n",
              "      <td>Gray Centers</td>\n",
              "      <td>Rita</td>\n",
              "      <td>Owen</td>\n",
              "      <td>50</td>\n",
              "      <td>Head</td>\n",
              "      <td>Single</td>\n",
              "      <td>Female</td>\n",
              "      <td>Media planner</td>\n",
              "      <td>None</td>\n",
              "      <td>Christian</td>\n",
              "    </tr>\n",
              "    <tr>\n",
              "      <th>1</th>\n",
              "      <td>2</td>\n",
              "      <td>Gray Centers</td>\n",
              "      <td>Amber</td>\n",
              "      <td>James</td>\n",
              "      <td>21</td>\n",
              "      <td>Head</td>\n",
              "      <td>Single</td>\n",
              "      <td>Female</td>\n",
              "      <td>University Student</td>\n",
              "      <td>None</td>\n",
              "      <td>Muslim</td>\n",
              "    </tr>\n",
              "    <tr>\n",
              "      <th>2</th>\n",
              "      <td>3</td>\n",
              "      <td>Gray Centers</td>\n",
              "      <td>Oliver</td>\n",
              "      <td>Campbell</td>\n",
              "      <td>58</td>\n",
              "      <td>Head</td>\n",
              "      <td>Married</td>\n",
              "      <td>Male</td>\n",
              "      <td>Professor Emeritus</td>\n",
              "      <td>None</td>\n",
              "      <td>Christian</td>\n",
              "    </tr>\n",
              "    <tr>\n",
              "      <th>3</th>\n",
              "      <td>3</td>\n",
              "      <td>Gray Centers</td>\n",
              "      <td>Christine</td>\n",
              "      <td>Campbell</td>\n",
              "      <td>50</td>\n",
              "      <td>Wife</td>\n",
              "      <td>Married</td>\n",
              "      <td>Female</td>\n",
              "      <td>Engineer, control and instrumentation</td>\n",
              "      <td>None</td>\n",
              "      <td>None</td>\n",
              "    </tr>\n",
              "    <tr>\n",
              "      <th>4</th>\n",
              "      <td>4</td>\n",
              "      <td>Gray Centers</td>\n",
              "      <td>Gordon</td>\n",
              "      <td>Miles</td>\n",
              "      <td>79</td>\n",
              "      <td>Head</td>\n",
              "      <td>Widowed</td>\n",
              "      <td>Male</td>\n",
              "      <td>Retired Retail banker</td>\n",
              "      <td>None</td>\n",
              "      <td>Christian</td>\n",
              "    </tr>\n",
              "  </tbody>\n",
              "</table>\n",
              "</div>\n",
              "    <div class=\"colab-df-buttons\">\n",
              "\n",
              "  <div class=\"colab-df-container\">\n",
              "    <button class=\"colab-df-convert\" onclick=\"convertToInteractive('df-30cef3d8-a755-490e-8e9c-a605b204b90c')\"\n",
              "            title=\"Convert this dataframe to an interactive table.\"\n",
              "            style=\"display:none;\">\n",
              "\n",
              "  <svg xmlns=\"http://www.w3.org/2000/svg\" height=\"24px\" viewBox=\"0 -960 960 960\">\n",
              "    <path d=\"M120-120v-720h720v720H120Zm60-500h600v-160H180v160Zm220 220h160v-160H400v160Zm0 220h160v-160H400v160ZM180-400h160v-160H180v160Zm440 0h160v-160H620v160ZM180-180h160v-160H180v160Zm440 0h160v-160H620v160Z\"/>\n",
              "  </svg>\n",
              "    </button>\n",
              "\n",
              "  <style>\n",
              "    .colab-df-container {\n",
              "      display:flex;\n",
              "      gap: 12px;\n",
              "    }\n",
              "\n",
              "    .colab-df-convert {\n",
              "      background-color: #E8F0FE;\n",
              "      border: none;\n",
              "      border-radius: 50%;\n",
              "      cursor: pointer;\n",
              "      display: none;\n",
              "      fill: #1967D2;\n",
              "      height: 32px;\n",
              "      padding: 0 0 0 0;\n",
              "      width: 32px;\n",
              "    }\n",
              "\n",
              "    .colab-df-convert:hover {\n",
              "      background-color: #E2EBFA;\n",
              "      box-shadow: 0px 1px 2px rgba(60, 64, 67, 0.3), 0px 1px 3px 1px rgba(60, 64, 67, 0.15);\n",
              "      fill: #174EA6;\n",
              "    }\n",
              "\n",
              "    .colab-df-buttons div {\n",
              "      margin-bottom: 4px;\n",
              "    }\n",
              "\n",
              "    [theme=dark] .colab-df-convert {\n",
              "      background-color: #3B4455;\n",
              "      fill: #D2E3FC;\n",
              "    }\n",
              "\n",
              "    [theme=dark] .colab-df-convert:hover {\n",
              "      background-color: #434B5C;\n",
              "      box-shadow: 0px 1px 3px 1px rgba(0, 0, 0, 0.15);\n",
              "      filter: drop-shadow(0px 1px 2px rgba(0, 0, 0, 0.3));\n",
              "      fill: #FFFFFF;\n",
              "    }\n",
              "  </style>\n",
              "\n",
              "    <script>\n",
              "      const buttonEl =\n",
              "        document.querySelector('#df-30cef3d8-a755-490e-8e9c-a605b204b90c button.colab-df-convert');\n",
              "      buttonEl.style.display =\n",
              "        google.colab.kernel.accessAllowed ? 'block' : 'none';\n",
              "\n",
              "      async function convertToInteractive(key) {\n",
              "        const element = document.querySelector('#df-30cef3d8-a755-490e-8e9c-a605b204b90c');\n",
              "        const dataTable =\n",
              "          await google.colab.kernel.invokeFunction('convertToInteractive',\n",
              "                                                    [key], {});\n",
              "        if (!dataTable) return;\n",
              "\n",
              "        const docLinkHtml = 'Like what you see? Visit the ' +\n",
              "          '<a target=\"_blank\" href=https://colab.research.google.com/notebooks/data_table.ipynb>data table notebook</a>'\n",
              "          + ' to learn more about interactive tables.';\n",
              "        element.innerHTML = '';\n",
              "        dataTable['output_type'] = 'display_data';\n",
              "        await google.colab.output.renderOutput(dataTable, element);\n",
              "        const docLink = document.createElement('div');\n",
              "        docLink.innerHTML = docLinkHtml;\n",
              "        element.appendChild(docLink);\n",
              "      }\n",
              "    </script>\n",
              "  </div>\n",
              "\n",
              "\n",
              "<div id=\"df-97fb1e4c-84f5-4d52-9699-b36814f2484a\">\n",
              "  <button class=\"colab-df-quickchart\" onclick=\"quickchart('df-97fb1e4c-84f5-4d52-9699-b36814f2484a')\"\n",
              "            title=\"Suggest charts\"\n",
              "            style=\"display:none;\">\n",
              "\n",
              "<svg xmlns=\"http://www.w3.org/2000/svg\" height=\"24px\"viewBox=\"0 0 24 24\"\n",
              "     width=\"24px\">\n",
              "    <g>\n",
              "        <path d=\"M19 3H5c-1.1 0-2 .9-2 2v14c0 1.1.9 2 2 2h14c1.1 0 2-.9 2-2V5c0-1.1-.9-2-2-2zM9 17H7v-7h2v7zm4 0h-2V7h2v10zm4 0h-2v-4h2v4z\"/>\n",
              "    </g>\n",
              "</svg>\n",
              "  </button>\n",
              "\n",
              "<style>\n",
              "  .colab-df-quickchart {\n",
              "      --bg-color: #E8F0FE;\n",
              "      --fill-color: #1967D2;\n",
              "      --hover-bg-color: #E2EBFA;\n",
              "      --hover-fill-color: #174EA6;\n",
              "      --disabled-fill-color: #AAA;\n",
              "      --disabled-bg-color: #DDD;\n",
              "  }\n",
              "\n",
              "  [theme=dark] .colab-df-quickchart {\n",
              "      --bg-color: #3B4455;\n",
              "      --fill-color: #D2E3FC;\n",
              "      --hover-bg-color: #434B5C;\n",
              "      --hover-fill-color: #FFFFFF;\n",
              "      --disabled-bg-color: #3B4455;\n",
              "      --disabled-fill-color: #666;\n",
              "  }\n",
              "\n",
              "  .colab-df-quickchart {\n",
              "    background-color: var(--bg-color);\n",
              "    border: none;\n",
              "    border-radius: 50%;\n",
              "    cursor: pointer;\n",
              "    display: none;\n",
              "    fill: var(--fill-color);\n",
              "    height: 32px;\n",
              "    padding: 0;\n",
              "    width: 32px;\n",
              "  }\n",
              "\n",
              "  .colab-df-quickchart:hover {\n",
              "    background-color: var(--hover-bg-color);\n",
              "    box-shadow: 0 1px 2px rgba(60, 64, 67, 0.3), 0 1px 3px 1px rgba(60, 64, 67, 0.15);\n",
              "    fill: var(--button-hover-fill-color);\n",
              "  }\n",
              "\n",
              "  .colab-df-quickchart-complete:disabled,\n",
              "  .colab-df-quickchart-complete:disabled:hover {\n",
              "    background-color: var(--disabled-bg-color);\n",
              "    fill: var(--disabled-fill-color);\n",
              "    box-shadow: none;\n",
              "  }\n",
              "\n",
              "  .colab-df-spinner {\n",
              "    border: 2px solid var(--fill-color);\n",
              "    border-color: transparent;\n",
              "    border-bottom-color: var(--fill-color);\n",
              "    animation:\n",
              "      spin 1s steps(1) infinite;\n",
              "  }\n",
              "\n",
              "  @keyframes spin {\n",
              "    0% {\n",
              "      border-color: transparent;\n",
              "      border-bottom-color: var(--fill-color);\n",
              "      border-left-color: var(--fill-color);\n",
              "    }\n",
              "    20% {\n",
              "      border-color: transparent;\n",
              "      border-left-color: var(--fill-color);\n",
              "      border-top-color: var(--fill-color);\n",
              "    }\n",
              "    30% {\n",
              "      border-color: transparent;\n",
              "      border-left-color: var(--fill-color);\n",
              "      border-top-color: var(--fill-color);\n",
              "      border-right-color: var(--fill-color);\n",
              "    }\n",
              "    40% {\n",
              "      border-color: transparent;\n",
              "      border-right-color: var(--fill-color);\n",
              "      border-top-color: var(--fill-color);\n",
              "    }\n",
              "    60% {\n",
              "      border-color: transparent;\n",
              "      border-right-color: var(--fill-color);\n",
              "    }\n",
              "    80% {\n",
              "      border-color: transparent;\n",
              "      border-right-color: var(--fill-color);\n",
              "      border-bottom-color: var(--fill-color);\n",
              "    }\n",
              "    90% {\n",
              "      border-color: transparent;\n",
              "      border-bottom-color: var(--fill-color);\n",
              "    }\n",
              "  }\n",
              "</style>\n",
              "\n",
              "  <script>\n",
              "    async function quickchart(key) {\n",
              "      const quickchartButtonEl =\n",
              "        document.querySelector('#' + key + ' button');\n",
              "      quickchartButtonEl.disabled = true;  // To prevent multiple clicks.\n",
              "      quickchartButtonEl.classList.add('colab-df-spinner');\n",
              "      try {\n",
              "        const charts = await google.colab.kernel.invokeFunction(\n",
              "            'suggestCharts', [key], {});\n",
              "      } catch (error) {\n",
              "        console.error('Error during call to suggestCharts:', error);\n",
              "      }\n",
              "      quickchartButtonEl.classList.remove('colab-df-spinner');\n",
              "      quickchartButtonEl.classList.add('colab-df-quickchart-complete');\n",
              "    }\n",
              "    (() => {\n",
              "      let quickchartButtonEl =\n",
              "        document.querySelector('#df-97fb1e4c-84f5-4d52-9699-b36814f2484a button');\n",
              "      quickchartButtonEl.style.display =\n",
              "        google.colab.kernel.accessAllowed ? 'block' : 'none';\n",
              "    })();\n",
              "  </script>\n",
              "</div>\n",
              "    </div>\n",
              "  </div>\n"
            ]
          },
          "metadata": {},
          "execution_count": 20
        }
      ]
    },
    {
      "cell_type": "markdown",
      "source": [
        "To access the initial few rows of a DataFrame, utilise the Pandas method.head(). You can change the number inside the parenthesis to view a different number of rows, but by default, it returns the first five rows.\n",
        "\n",
        "As a result, when you execute default.head(), your DataFrame default's top five rows are displayed, letting you rapidly examine the organisation and substance of your data. In order to determine whether the data has been loaded correctly and to obtain an impression of the dataset's appearance, this is a standard procedure in data analysis. So from the analysis, it shows that the dataset was loaded correctly."
      ],
      "metadata": {
        "id": "MQlvnvYfvA_9"
      }
    },
    {
      "cell_type": "code",
      "source": [
        "print(census_data.tail())"
      ],
      "metadata": {
        "colab": {
          "base_uri": "https://localhost:8080/"
        },
        "id": "nMMou5iV1h1b",
        "outputId": "585fbd6a-ec29-4f87-86a5-b97c9cd1c8c4"
      },
      "execution_count": null,
      "outputs": [
        {
          "output_type": "stream",
          "name": "stdout",
          "text": [
            "       House Number            Street First Name Surname Age  \\\n",
            "10078             1  Nottingham Haven      Jodie    Bell  31   \n",
            "10079             1  Nottingham Haven      David    Bell  30   \n",
            "10080             1  Nottingham Haven       Alan    Bell   1   \n",
            "10081             1  Nottingham Haven     Graham    Hall  40   \n",
            "10082             1    Bishop Granary       Rhys  Baxter  23   \n",
            "\n",
            "      Relationship to Head of House Marital Status  Gender  \\\n",
            "10078                          Head        Married  Female   \n",
            "10079                       Husband        Married    Male   \n",
            "10080                           Son            NaN    Male   \n",
            "10081                        Lodger         Single    Male   \n",
            "10082                          Head         Single    Male   \n",
            "\n",
            "                   Occupation Infirmity   Religion  \n",
            "10078   Geneticist, molecular      None  Methodist  \n",
            "10079    Merchandiser, retail      None  Methodist  \n",
            "10080                   Child      None        NaN  \n",
            "10081  Museum/gallery curator      None  Christian  \n",
            "10082              Unemployed      None       None  \n"
          ]
        }
      ]
    },
    {
      "cell_type": "code",
      "source": [
        "census_data.tail()"
      ],
      "metadata": {
        "colab": {
          "base_uri": "https://localhost:8080/",
          "height": 206
        },
        "id": "FTqn4jI-1sT_",
        "outputId": "53f6e1c0-3100-4561-eca6-d570127f4ff4"
      },
      "execution_count": null,
      "outputs": [
        {
          "output_type": "execute_result",
          "data": {
            "text/plain": [
              "       House Number            Street First Name Surname Age  \\\n",
              "10078             1  Nottingham Haven      Jodie    Bell  31   \n",
              "10079             1  Nottingham Haven      David    Bell  30   \n",
              "10080             1  Nottingham Haven       Alan    Bell   1   \n",
              "10081             1  Nottingham Haven     Graham    Hall  40   \n",
              "10082             1    Bishop Granary       Rhys  Baxter  23   \n",
              "\n",
              "      Relationship to Head of House Marital Status  Gender  \\\n",
              "10078                          Head        Married  Female   \n",
              "10079                       Husband        Married    Male   \n",
              "10080                           Son            NaN    Male   \n",
              "10081                        Lodger         Single    Male   \n",
              "10082                          Head         Single    Male   \n",
              "\n",
              "                   Occupation Infirmity   Religion  \n",
              "10078   Geneticist, molecular      None  Methodist  \n",
              "10079    Merchandiser, retail      None  Methodist  \n",
              "10080                   Child      None        NaN  \n",
              "10081  Museum/gallery curator      None  Christian  \n",
              "10082              Unemployed      None       None  "
            ],
            "text/html": [
              "\n",
              "  <div id=\"df-d34c3292-6fc9-43b7-80c9-5d2534b26198\" class=\"colab-df-container\">\n",
              "    <div>\n",
              "<style scoped>\n",
              "    .dataframe tbody tr th:only-of-type {\n",
              "        vertical-align: middle;\n",
              "    }\n",
              "\n",
              "    .dataframe tbody tr th {\n",
              "        vertical-align: top;\n",
              "    }\n",
              "\n",
              "    .dataframe thead th {\n",
              "        text-align: right;\n",
              "    }\n",
              "</style>\n",
              "<table border=\"1\" class=\"dataframe\">\n",
              "  <thead>\n",
              "    <tr style=\"text-align: right;\">\n",
              "      <th></th>\n",
              "      <th>House Number</th>\n",
              "      <th>Street</th>\n",
              "      <th>First Name</th>\n",
              "      <th>Surname</th>\n",
              "      <th>Age</th>\n",
              "      <th>Relationship to Head of House</th>\n",
              "      <th>Marital Status</th>\n",
              "      <th>Gender</th>\n",
              "      <th>Occupation</th>\n",
              "      <th>Infirmity</th>\n",
              "      <th>Religion</th>\n",
              "    </tr>\n",
              "  </thead>\n",
              "  <tbody>\n",
              "    <tr>\n",
              "      <th>10078</th>\n",
              "      <td>1</td>\n",
              "      <td>Nottingham Haven</td>\n",
              "      <td>Jodie</td>\n",
              "      <td>Bell</td>\n",
              "      <td>31</td>\n",
              "      <td>Head</td>\n",
              "      <td>Married</td>\n",
              "      <td>Female</td>\n",
              "      <td>Geneticist, molecular</td>\n",
              "      <td>None</td>\n",
              "      <td>Methodist</td>\n",
              "    </tr>\n",
              "    <tr>\n",
              "      <th>10079</th>\n",
              "      <td>1</td>\n",
              "      <td>Nottingham Haven</td>\n",
              "      <td>David</td>\n",
              "      <td>Bell</td>\n",
              "      <td>30</td>\n",
              "      <td>Husband</td>\n",
              "      <td>Married</td>\n",
              "      <td>Male</td>\n",
              "      <td>Merchandiser, retail</td>\n",
              "      <td>None</td>\n",
              "      <td>Methodist</td>\n",
              "    </tr>\n",
              "    <tr>\n",
              "      <th>10080</th>\n",
              "      <td>1</td>\n",
              "      <td>Nottingham Haven</td>\n",
              "      <td>Alan</td>\n",
              "      <td>Bell</td>\n",
              "      <td>1</td>\n",
              "      <td>Son</td>\n",
              "      <td>NaN</td>\n",
              "      <td>Male</td>\n",
              "      <td>Child</td>\n",
              "      <td>None</td>\n",
              "      <td>NaN</td>\n",
              "    </tr>\n",
              "    <tr>\n",
              "      <th>10081</th>\n",
              "      <td>1</td>\n",
              "      <td>Nottingham Haven</td>\n",
              "      <td>Graham</td>\n",
              "      <td>Hall</td>\n",
              "      <td>40</td>\n",
              "      <td>Lodger</td>\n",
              "      <td>Single</td>\n",
              "      <td>Male</td>\n",
              "      <td>Museum/gallery curator</td>\n",
              "      <td>None</td>\n",
              "      <td>Christian</td>\n",
              "    </tr>\n",
              "    <tr>\n",
              "      <th>10082</th>\n",
              "      <td>1</td>\n",
              "      <td>Bishop Granary</td>\n",
              "      <td>Rhys</td>\n",
              "      <td>Baxter</td>\n",
              "      <td>23</td>\n",
              "      <td>Head</td>\n",
              "      <td>Single</td>\n",
              "      <td>Male</td>\n",
              "      <td>Unemployed</td>\n",
              "      <td>None</td>\n",
              "      <td>None</td>\n",
              "    </tr>\n",
              "  </tbody>\n",
              "</table>\n",
              "</div>\n",
              "    <div class=\"colab-df-buttons\">\n",
              "\n",
              "  <div class=\"colab-df-container\">\n",
              "    <button class=\"colab-df-convert\" onclick=\"convertToInteractive('df-d34c3292-6fc9-43b7-80c9-5d2534b26198')\"\n",
              "            title=\"Convert this dataframe to an interactive table.\"\n",
              "            style=\"display:none;\">\n",
              "\n",
              "  <svg xmlns=\"http://www.w3.org/2000/svg\" height=\"24px\" viewBox=\"0 -960 960 960\">\n",
              "    <path d=\"M120-120v-720h720v720H120Zm60-500h600v-160H180v160Zm220 220h160v-160H400v160Zm0 220h160v-160H400v160ZM180-400h160v-160H180v160Zm440 0h160v-160H620v160ZM180-180h160v-160H180v160Zm440 0h160v-160H620v160Z\"/>\n",
              "  </svg>\n",
              "    </button>\n",
              "\n",
              "  <style>\n",
              "    .colab-df-container {\n",
              "      display:flex;\n",
              "      gap: 12px;\n",
              "    }\n",
              "\n",
              "    .colab-df-convert {\n",
              "      background-color: #E8F0FE;\n",
              "      border: none;\n",
              "      border-radius: 50%;\n",
              "      cursor: pointer;\n",
              "      display: none;\n",
              "      fill: #1967D2;\n",
              "      height: 32px;\n",
              "      padding: 0 0 0 0;\n",
              "      width: 32px;\n",
              "    }\n",
              "\n",
              "    .colab-df-convert:hover {\n",
              "      background-color: #E2EBFA;\n",
              "      box-shadow: 0px 1px 2px rgba(60, 64, 67, 0.3), 0px 1px 3px 1px rgba(60, 64, 67, 0.15);\n",
              "      fill: #174EA6;\n",
              "    }\n",
              "\n",
              "    .colab-df-buttons div {\n",
              "      margin-bottom: 4px;\n",
              "    }\n",
              "\n",
              "    [theme=dark] .colab-df-convert {\n",
              "      background-color: #3B4455;\n",
              "      fill: #D2E3FC;\n",
              "    }\n",
              "\n",
              "    [theme=dark] .colab-df-convert:hover {\n",
              "      background-color: #434B5C;\n",
              "      box-shadow: 0px 1px 3px 1px rgba(0, 0, 0, 0.15);\n",
              "      filter: drop-shadow(0px 1px 2px rgba(0, 0, 0, 0.3));\n",
              "      fill: #FFFFFF;\n",
              "    }\n",
              "  </style>\n",
              "\n",
              "    <script>\n",
              "      const buttonEl =\n",
              "        document.querySelector('#df-d34c3292-6fc9-43b7-80c9-5d2534b26198 button.colab-df-convert');\n",
              "      buttonEl.style.display =\n",
              "        google.colab.kernel.accessAllowed ? 'block' : 'none';\n",
              "\n",
              "      async function convertToInteractive(key) {\n",
              "        const element = document.querySelector('#df-d34c3292-6fc9-43b7-80c9-5d2534b26198');\n",
              "        const dataTable =\n",
              "          await google.colab.kernel.invokeFunction('convertToInteractive',\n",
              "                                                    [key], {});\n",
              "        if (!dataTable) return;\n",
              "\n",
              "        const docLinkHtml = 'Like what you see? Visit the ' +\n",
              "          '<a target=\"_blank\" href=https://colab.research.google.com/notebooks/data_table.ipynb>data table notebook</a>'\n",
              "          + ' to learn more about interactive tables.';\n",
              "        element.innerHTML = '';\n",
              "        dataTable['output_type'] = 'display_data';\n",
              "        await google.colab.output.renderOutput(dataTable, element);\n",
              "        const docLink = document.createElement('div');\n",
              "        docLink.innerHTML = docLinkHtml;\n",
              "        element.appendChild(docLink);\n",
              "      }\n",
              "    </script>\n",
              "  </div>\n",
              "\n",
              "\n",
              "<div id=\"df-7b567f2f-27bb-4a1f-a089-f51794c6a830\">\n",
              "  <button class=\"colab-df-quickchart\" onclick=\"quickchart('df-7b567f2f-27bb-4a1f-a089-f51794c6a830')\"\n",
              "            title=\"Suggest charts\"\n",
              "            style=\"display:none;\">\n",
              "\n",
              "<svg xmlns=\"http://www.w3.org/2000/svg\" height=\"24px\"viewBox=\"0 0 24 24\"\n",
              "     width=\"24px\">\n",
              "    <g>\n",
              "        <path d=\"M19 3H5c-1.1 0-2 .9-2 2v14c0 1.1.9 2 2 2h14c1.1 0 2-.9 2-2V5c0-1.1-.9-2-2-2zM9 17H7v-7h2v7zm4 0h-2V7h2v10zm4 0h-2v-4h2v4z\"/>\n",
              "    </g>\n",
              "</svg>\n",
              "  </button>\n",
              "\n",
              "<style>\n",
              "  .colab-df-quickchart {\n",
              "      --bg-color: #E8F0FE;\n",
              "      --fill-color: #1967D2;\n",
              "      --hover-bg-color: #E2EBFA;\n",
              "      --hover-fill-color: #174EA6;\n",
              "      --disabled-fill-color: #AAA;\n",
              "      --disabled-bg-color: #DDD;\n",
              "  }\n",
              "\n",
              "  [theme=dark] .colab-df-quickchart {\n",
              "      --bg-color: #3B4455;\n",
              "      --fill-color: #D2E3FC;\n",
              "      --hover-bg-color: #434B5C;\n",
              "      --hover-fill-color: #FFFFFF;\n",
              "      --disabled-bg-color: #3B4455;\n",
              "      --disabled-fill-color: #666;\n",
              "  }\n",
              "\n",
              "  .colab-df-quickchart {\n",
              "    background-color: var(--bg-color);\n",
              "    border: none;\n",
              "    border-radius: 50%;\n",
              "    cursor: pointer;\n",
              "    display: none;\n",
              "    fill: var(--fill-color);\n",
              "    height: 32px;\n",
              "    padding: 0;\n",
              "    width: 32px;\n",
              "  }\n",
              "\n",
              "  .colab-df-quickchart:hover {\n",
              "    background-color: var(--hover-bg-color);\n",
              "    box-shadow: 0 1px 2px rgba(60, 64, 67, 0.3), 0 1px 3px 1px rgba(60, 64, 67, 0.15);\n",
              "    fill: var(--button-hover-fill-color);\n",
              "  }\n",
              "\n",
              "  .colab-df-quickchart-complete:disabled,\n",
              "  .colab-df-quickchart-complete:disabled:hover {\n",
              "    background-color: var(--disabled-bg-color);\n",
              "    fill: var(--disabled-fill-color);\n",
              "    box-shadow: none;\n",
              "  }\n",
              "\n",
              "  .colab-df-spinner {\n",
              "    border: 2px solid var(--fill-color);\n",
              "    border-color: transparent;\n",
              "    border-bottom-color: var(--fill-color);\n",
              "    animation:\n",
              "      spin 1s steps(1) infinite;\n",
              "  }\n",
              "\n",
              "  @keyframes spin {\n",
              "    0% {\n",
              "      border-color: transparent;\n",
              "      border-bottom-color: var(--fill-color);\n",
              "      border-left-color: var(--fill-color);\n",
              "    }\n",
              "    20% {\n",
              "      border-color: transparent;\n",
              "      border-left-color: var(--fill-color);\n",
              "      border-top-color: var(--fill-color);\n",
              "    }\n",
              "    30% {\n",
              "      border-color: transparent;\n",
              "      border-left-color: var(--fill-color);\n",
              "      border-top-color: var(--fill-color);\n",
              "      border-right-color: var(--fill-color);\n",
              "    }\n",
              "    40% {\n",
              "      border-color: transparent;\n",
              "      border-right-color: var(--fill-color);\n",
              "      border-top-color: var(--fill-color);\n",
              "    }\n",
              "    60% {\n",
              "      border-color: transparent;\n",
              "      border-right-color: var(--fill-color);\n",
              "    }\n",
              "    80% {\n",
              "      border-color: transparent;\n",
              "      border-right-color: var(--fill-color);\n",
              "      border-bottom-color: var(--fill-color);\n",
              "    }\n",
              "    90% {\n",
              "      border-color: transparent;\n",
              "      border-bottom-color: var(--fill-color);\n",
              "    }\n",
              "  }\n",
              "</style>\n",
              "\n",
              "  <script>\n",
              "    async function quickchart(key) {\n",
              "      const quickchartButtonEl =\n",
              "        document.querySelector('#' + key + ' button');\n",
              "      quickchartButtonEl.disabled = true;  // To prevent multiple clicks.\n",
              "      quickchartButtonEl.classList.add('colab-df-spinner');\n",
              "      try {\n",
              "        const charts = await google.colab.kernel.invokeFunction(\n",
              "            'suggestCharts', [key], {});\n",
              "      } catch (error) {\n",
              "        console.error('Error during call to suggestCharts:', error);\n",
              "      }\n",
              "      quickchartButtonEl.classList.remove('colab-df-spinner');\n",
              "      quickchartButtonEl.classList.add('colab-df-quickchart-complete');\n",
              "    }\n",
              "    (() => {\n",
              "      let quickchartButtonEl =\n",
              "        document.querySelector('#df-7b567f2f-27bb-4a1f-a089-f51794c6a830 button');\n",
              "      quickchartButtonEl.style.display =\n",
              "        google.colab.kernel.accessAllowed ? 'block' : 'none';\n",
              "    })();\n",
              "  </script>\n",
              "</div>\n",
              "    </div>\n",
              "  </div>\n"
            ]
          },
          "metadata": {},
          "execution_count": 22
        }
      ]
    },
    {
      "cell_type": "markdown",
      "source": [
        "A Pandas method called \"tail()\" can be used to obtain a DataFrame's final few rows. You can give a different number inside the parenthesis if you wish to see a different number of rows; by default, it returns the previous five rows.\n",
        "\n",
        "Therefore, the last five rows of your DataFrame default are displayed when you call default.tail(). This is helpful in determining the dataset's end, particularly when dealing with huge DataFrames. It aids in giving you an idea of the general organisation of the data and makes sure you haven't overlooked anything.\n",
        "\n",
        "To summarise, default.tail() provides a convenient means of inspecting the end of your DataFrame to gain a deeper understanding of the contents."
      ],
      "metadata": {
        "id": "vx57eCzHvMkM"
      }
    },
    {
      "cell_type": "code",
      "source": [
        "## using the index number to find the total numbers of rows and columns(row index 0, column index 1)\n",
        "print(\"The total number of rows in this dataset is\", census_data.shape[0])\n",
        "print(\"The total number of columns in this dataset is\", census_data.shape[1])"
      ],
      "metadata": {
        "colab": {
          "base_uri": "https://localhost:8080/"
        },
        "id": "27w5shh8vR1_",
        "outputId": "98412ff9-cc5b-400f-c5a2-4a2c2b5fd2bd"
      },
      "execution_count": null,
      "outputs": [
        {
          "output_type": "stream",
          "name": "stdout",
          "text": [
            "The total number of rows in this dataset is 10083\n",
            "The total number of columns in this dataset is 11\n"
          ]
        }
      ]
    },
    {
      "cell_type": "markdown",
      "source": [
        "print(census_data.shape[0]), \"The total number of rows in this dataset is\").\n",
        "\n",
        "The Python function print() is pre-installed and can be used to print text or variable values to the console. The string \"The total number of rows in this dataset is\" will be included in the output. The first member of the tuple that default.shape returns, representing the total number of rows in the DataFrame, is retrieved via default.shape[0]. Thus, the real number of rows in the default DataFrame is printed along with a message on this line.\n",
        "\n",
        "print(census_data.shape[1]), \"The total number of columns in this dataset is\").\n",
        "\n",
        "This print() statement prints the actual number of columns in the default DataFrame in addition to a message, just like the previous one did. The second element of the tuple supplied by default.shape, the total number of columns, is retrieved by calling default.shape[1]. Thus, two lines of text will be produced when you run this code. The dataset's total number of rows is indicated in the first line, and its total number of columns is indicated in the second. This is a typical method of giving a brief overview of the dataset's dimensions that you are using."
      ],
      "metadata": {
        "id": "KPcUAZhrvXkj"
      }
    },
    {
      "cell_type": "code",
      "source": [
        "## to check for null values and which shows that there is no null value in the dataset\n",
        "census_data.isnull()"
      ],
      "metadata": {
        "colab": {
          "base_uri": "https://localhost:8080/",
          "height": 424
        },
        "id": "wHEMX1SewfY7",
        "outputId": "b5857045-824b-4772-e046-4aef01193977"
      },
      "execution_count": null,
      "outputs": [
        {
          "output_type": "execute_result",
          "data": {
            "text/plain": [
              "       House Number  Street  First Name  Surname    Age  \\\n",
              "0             False   False       False    False  False   \n",
              "1             False   False       False    False  False   \n",
              "2             False   False       False    False  False   \n",
              "3             False   False       False    False  False   \n",
              "4             False   False       False    False  False   \n",
              "...             ...     ...         ...      ...    ...   \n",
              "10078         False   False       False    False  False   \n",
              "10079         False   False       False    False  False   \n",
              "10080         False   False       False    False  False   \n",
              "10081         False   False       False    False  False   \n",
              "10082         False   False       False    False  False   \n",
              "\n",
              "       Relationship to Head of House  Marital Status  Gender  Occupation  \\\n",
              "0                              False           False   False       False   \n",
              "1                              False           False   False       False   \n",
              "2                              False           False   False       False   \n",
              "3                              False           False   False       False   \n",
              "4                              False           False   False       False   \n",
              "...                              ...             ...     ...         ...   \n",
              "10078                          False           False   False       False   \n",
              "10079                          False           False   False       False   \n",
              "10080                          False            True   False       False   \n",
              "10081                          False           False   False       False   \n",
              "10082                          False           False   False       False   \n",
              "\n",
              "       Infirmity  Religion  \n",
              "0          False     False  \n",
              "1          False     False  \n",
              "2          False     False  \n",
              "3          False     False  \n",
              "4          False     False  \n",
              "...          ...       ...  \n",
              "10078      False     False  \n",
              "10079      False     False  \n",
              "10080      False      True  \n",
              "10081      False     False  \n",
              "10082      False     False  \n",
              "\n",
              "[10083 rows x 11 columns]"
            ],
            "text/html": [
              "\n",
              "  <div id=\"df-08fafe2b-6572-4f10-ab9f-475ccdde6953\" class=\"colab-df-container\">\n",
              "    <div>\n",
              "<style scoped>\n",
              "    .dataframe tbody tr th:only-of-type {\n",
              "        vertical-align: middle;\n",
              "    }\n",
              "\n",
              "    .dataframe tbody tr th {\n",
              "        vertical-align: top;\n",
              "    }\n",
              "\n",
              "    .dataframe thead th {\n",
              "        text-align: right;\n",
              "    }\n",
              "</style>\n",
              "<table border=\"1\" class=\"dataframe\">\n",
              "  <thead>\n",
              "    <tr style=\"text-align: right;\">\n",
              "      <th></th>\n",
              "      <th>House Number</th>\n",
              "      <th>Street</th>\n",
              "      <th>First Name</th>\n",
              "      <th>Surname</th>\n",
              "      <th>Age</th>\n",
              "      <th>Relationship to Head of House</th>\n",
              "      <th>Marital Status</th>\n",
              "      <th>Gender</th>\n",
              "      <th>Occupation</th>\n",
              "      <th>Infirmity</th>\n",
              "      <th>Religion</th>\n",
              "    </tr>\n",
              "  </thead>\n",
              "  <tbody>\n",
              "    <tr>\n",
              "      <th>0</th>\n",
              "      <td>False</td>\n",
              "      <td>False</td>\n",
              "      <td>False</td>\n",
              "      <td>False</td>\n",
              "      <td>False</td>\n",
              "      <td>False</td>\n",
              "      <td>False</td>\n",
              "      <td>False</td>\n",
              "      <td>False</td>\n",
              "      <td>False</td>\n",
              "      <td>False</td>\n",
              "    </tr>\n",
              "    <tr>\n",
              "      <th>1</th>\n",
              "      <td>False</td>\n",
              "      <td>False</td>\n",
              "      <td>False</td>\n",
              "      <td>False</td>\n",
              "      <td>False</td>\n",
              "      <td>False</td>\n",
              "      <td>False</td>\n",
              "      <td>False</td>\n",
              "      <td>False</td>\n",
              "      <td>False</td>\n",
              "      <td>False</td>\n",
              "    </tr>\n",
              "    <tr>\n",
              "      <th>2</th>\n",
              "      <td>False</td>\n",
              "      <td>False</td>\n",
              "      <td>False</td>\n",
              "      <td>False</td>\n",
              "      <td>False</td>\n",
              "      <td>False</td>\n",
              "      <td>False</td>\n",
              "      <td>False</td>\n",
              "      <td>False</td>\n",
              "      <td>False</td>\n",
              "      <td>False</td>\n",
              "    </tr>\n",
              "    <tr>\n",
              "      <th>3</th>\n",
              "      <td>False</td>\n",
              "      <td>False</td>\n",
              "      <td>False</td>\n",
              "      <td>False</td>\n",
              "      <td>False</td>\n",
              "      <td>False</td>\n",
              "      <td>False</td>\n",
              "      <td>False</td>\n",
              "      <td>False</td>\n",
              "      <td>False</td>\n",
              "      <td>False</td>\n",
              "    </tr>\n",
              "    <tr>\n",
              "      <th>4</th>\n",
              "      <td>False</td>\n",
              "      <td>False</td>\n",
              "      <td>False</td>\n",
              "      <td>False</td>\n",
              "      <td>False</td>\n",
              "      <td>False</td>\n",
              "      <td>False</td>\n",
              "      <td>False</td>\n",
              "      <td>False</td>\n",
              "      <td>False</td>\n",
              "      <td>False</td>\n",
              "    </tr>\n",
              "    <tr>\n",
              "      <th>...</th>\n",
              "      <td>...</td>\n",
              "      <td>...</td>\n",
              "      <td>...</td>\n",
              "      <td>...</td>\n",
              "      <td>...</td>\n",
              "      <td>...</td>\n",
              "      <td>...</td>\n",
              "      <td>...</td>\n",
              "      <td>...</td>\n",
              "      <td>...</td>\n",
              "      <td>...</td>\n",
              "    </tr>\n",
              "    <tr>\n",
              "      <th>10078</th>\n",
              "      <td>False</td>\n",
              "      <td>False</td>\n",
              "      <td>False</td>\n",
              "      <td>False</td>\n",
              "      <td>False</td>\n",
              "      <td>False</td>\n",
              "      <td>False</td>\n",
              "      <td>False</td>\n",
              "      <td>False</td>\n",
              "      <td>False</td>\n",
              "      <td>False</td>\n",
              "    </tr>\n",
              "    <tr>\n",
              "      <th>10079</th>\n",
              "      <td>False</td>\n",
              "      <td>False</td>\n",
              "      <td>False</td>\n",
              "      <td>False</td>\n",
              "      <td>False</td>\n",
              "      <td>False</td>\n",
              "      <td>False</td>\n",
              "      <td>False</td>\n",
              "      <td>False</td>\n",
              "      <td>False</td>\n",
              "      <td>False</td>\n",
              "    </tr>\n",
              "    <tr>\n",
              "      <th>10080</th>\n",
              "      <td>False</td>\n",
              "      <td>False</td>\n",
              "      <td>False</td>\n",
              "      <td>False</td>\n",
              "      <td>False</td>\n",
              "      <td>False</td>\n",
              "      <td>True</td>\n",
              "      <td>False</td>\n",
              "      <td>False</td>\n",
              "      <td>False</td>\n",
              "      <td>True</td>\n",
              "    </tr>\n",
              "    <tr>\n",
              "      <th>10081</th>\n",
              "      <td>False</td>\n",
              "      <td>False</td>\n",
              "      <td>False</td>\n",
              "      <td>False</td>\n",
              "      <td>False</td>\n",
              "      <td>False</td>\n",
              "      <td>False</td>\n",
              "      <td>False</td>\n",
              "      <td>False</td>\n",
              "      <td>False</td>\n",
              "      <td>False</td>\n",
              "    </tr>\n",
              "    <tr>\n",
              "      <th>10082</th>\n",
              "      <td>False</td>\n",
              "      <td>False</td>\n",
              "      <td>False</td>\n",
              "      <td>False</td>\n",
              "      <td>False</td>\n",
              "      <td>False</td>\n",
              "      <td>False</td>\n",
              "      <td>False</td>\n",
              "      <td>False</td>\n",
              "      <td>False</td>\n",
              "      <td>False</td>\n",
              "    </tr>\n",
              "  </tbody>\n",
              "</table>\n",
              "<p>10083 rows × 11 columns</p>\n",
              "</div>\n",
              "    <div class=\"colab-df-buttons\">\n",
              "\n",
              "  <div class=\"colab-df-container\">\n",
              "    <button class=\"colab-df-convert\" onclick=\"convertToInteractive('df-08fafe2b-6572-4f10-ab9f-475ccdde6953')\"\n",
              "            title=\"Convert this dataframe to an interactive table.\"\n",
              "            style=\"display:none;\">\n",
              "\n",
              "  <svg xmlns=\"http://www.w3.org/2000/svg\" height=\"24px\" viewBox=\"0 -960 960 960\">\n",
              "    <path d=\"M120-120v-720h720v720H120Zm60-500h600v-160H180v160Zm220 220h160v-160H400v160Zm0 220h160v-160H400v160ZM180-400h160v-160H180v160Zm440 0h160v-160H620v160ZM180-180h160v-160H180v160Zm440 0h160v-160H620v160Z\"/>\n",
              "  </svg>\n",
              "    </button>\n",
              "\n",
              "  <style>\n",
              "    .colab-df-container {\n",
              "      display:flex;\n",
              "      gap: 12px;\n",
              "    }\n",
              "\n",
              "    .colab-df-convert {\n",
              "      background-color: #E8F0FE;\n",
              "      border: none;\n",
              "      border-radius: 50%;\n",
              "      cursor: pointer;\n",
              "      display: none;\n",
              "      fill: #1967D2;\n",
              "      height: 32px;\n",
              "      padding: 0 0 0 0;\n",
              "      width: 32px;\n",
              "    }\n",
              "\n",
              "    .colab-df-convert:hover {\n",
              "      background-color: #E2EBFA;\n",
              "      box-shadow: 0px 1px 2px rgba(60, 64, 67, 0.3), 0px 1px 3px 1px rgba(60, 64, 67, 0.15);\n",
              "      fill: #174EA6;\n",
              "    }\n",
              "\n",
              "    .colab-df-buttons div {\n",
              "      margin-bottom: 4px;\n",
              "    }\n",
              "\n",
              "    [theme=dark] .colab-df-convert {\n",
              "      background-color: #3B4455;\n",
              "      fill: #D2E3FC;\n",
              "    }\n",
              "\n",
              "    [theme=dark] .colab-df-convert:hover {\n",
              "      background-color: #434B5C;\n",
              "      box-shadow: 0px 1px 3px 1px rgba(0, 0, 0, 0.15);\n",
              "      filter: drop-shadow(0px 1px 2px rgba(0, 0, 0, 0.3));\n",
              "      fill: #FFFFFF;\n",
              "    }\n",
              "  </style>\n",
              "\n",
              "    <script>\n",
              "      const buttonEl =\n",
              "        document.querySelector('#df-08fafe2b-6572-4f10-ab9f-475ccdde6953 button.colab-df-convert');\n",
              "      buttonEl.style.display =\n",
              "        google.colab.kernel.accessAllowed ? 'block' : 'none';\n",
              "\n",
              "      async function convertToInteractive(key) {\n",
              "        const element = document.querySelector('#df-08fafe2b-6572-4f10-ab9f-475ccdde6953');\n",
              "        const dataTable =\n",
              "          await google.colab.kernel.invokeFunction('convertToInteractive',\n",
              "                                                    [key], {});\n",
              "        if (!dataTable) return;\n",
              "\n",
              "        const docLinkHtml = 'Like what you see? Visit the ' +\n",
              "          '<a target=\"_blank\" href=https://colab.research.google.com/notebooks/data_table.ipynb>data table notebook</a>'\n",
              "          + ' to learn more about interactive tables.';\n",
              "        element.innerHTML = '';\n",
              "        dataTable['output_type'] = 'display_data';\n",
              "        await google.colab.output.renderOutput(dataTable, element);\n",
              "        const docLink = document.createElement('div');\n",
              "        docLink.innerHTML = docLinkHtml;\n",
              "        element.appendChild(docLink);\n",
              "      }\n",
              "    </script>\n",
              "  </div>\n",
              "\n",
              "\n",
              "<div id=\"df-82481f4b-95ae-452b-8d46-4b1b225615e2\">\n",
              "  <button class=\"colab-df-quickchart\" onclick=\"quickchart('df-82481f4b-95ae-452b-8d46-4b1b225615e2')\"\n",
              "            title=\"Suggest charts\"\n",
              "            style=\"display:none;\">\n",
              "\n",
              "<svg xmlns=\"http://www.w3.org/2000/svg\" height=\"24px\"viewBox=\"0 0 24 24\"\n",
              "     width=\"24px\">\n",
              "    <g>\n",
              "        <path d=\"M19 3H5c-1.1 0-2 .9-2 2v14c0 1.1.9 2 2 2h14c1.1 0 2-.9 2-2V5c0-1.1-.9-2-2-2zM9 17H7v-7h2v7zm4 0h-2V7h2v10zm4 0h-2v-4h2v4z\"/>\n",
              "    </g>\n",
              "</svg>\n",
              "  </button>\n",
              "\n",
              "<style>\n",
              "  .colab-df-quickchart {\n",
              "      --bg-color: #E8F0FE;\n",
              "      --fill-color: #1967D2;\n",
              "      --hover-bg-color: #E2EBFA;\n",
              "      --hover-fill-color: #174EA6;\n",
              "      --disabled-fill-color: #AAA;\n",
              "      --disabled-bg-color: #DDD;\n",
              "  }\n",
              "\n",
              "  [theme=dark] .colab-df-quickchart {\n",
              "      --bg-color: #3B4455;\n",
              "      --fill-color: #D2E3FC;\n",
              "      --hover-bg-color: #434B5C;\n",
              "      --hover-fill-color: #FFFFFF;\n",
              "      --disabled-bg-color: #3B4455;\n",
              "      --disabled-fill-color: #666;\n",
              "  }\n",
              "\n",
              "  .colab-df-quickchart {\n",
              "    background-color: var(--bg-color);\n",
              "    border: none;\n",
              "    border-radius: 50%;\n",
              "    cursor: pointer;\n",
              "    display: none;\n",
              "    fill: var(--fill-color);\n",
              "    height: 32px;\n",
              "    padding: 0;\n",
              "    width: 32px;\n",
              "  }\n",
              "\n",
              "  .colab-df-quickchart:hover {\n",
              "    background-color: var(--hover-bg-color);\n",
              "    box-shadow: 0 1px 2px rgba(60, 64, 67, 0.3), 0 1px 3px 1px rgba(60, 64, 67, 0.15);\n",
              "    fill: var(--button-hover-fill-color);\n",
              "  }\n",
              "\n",
              "  .colab-df-quickchart-complete:disabled,\n",
              "  .colab-df-quickchart-complete:disabled:hover {\n",
              "    background-color: var(--disabled-bg-color);\n",
              "    fill: var(--disabled-fill-color);\n",
              "    box-shadow: none;\n",
              "  }\n",
              "\n",
              "  .colab-df-spinner {\n",
              "    border: 2px solid var(--fill-color);\n",
              "    border-color: transparent;\n",
              "    border-bottom-color: var(--fill-color);\n",
              "    animation:\n",
              "      spin 1s steps(1) infinite;\n",
              "  }\n",
              "\n",
              "  @keyframes spin {\n",
              "    0% {\n",
              "      border-color: transparent;\n",
              "      border-bottom-color: var(--fill-color);\n",
              "      border-left-color: var(--fill-color);\n",
              "    }\n",
              "    20% {\n",
              "      border-color: transparent;\n",
              "      border-left-color: var(--fill-color);\n",
              "      border-top-color: var(--fill-color);\n",
              "    }\n",
              "    30% {\n",
              "      border-color: transparent;\n",
              "      border-left-color: var(--fill-color);\n",
              "      border-top-color: var(--fill-color);\n",
              "      border-right-color: var(--fill-color);\n",
              "    }\n",
              "    40% {\n",
              "      border-color: transparent;\n",
              "      border-right-color: var(--fill-color);\n",
              "      border-top-color: var(--fill-color);\n",
              "    }\n",
              "    60% {\n",
              "      border-color: transparent;\n",
              "      border-right-color: var(--fill-color);\n",
              "    }\n",
              "    80% {\n",
              "      border-color: transparent;\n",
              "      border-right-color: var(--fill-color);\n",
              "      border-bottom-color: var(--fill-color);\n",
              "    }\n",
              "    90% {\n",
              "      border-color: transparent;\n",
              "      border-bottom-color: var(--fill-color);\n",
              "    }\n",
              "  }\n",
              "</style>\n",
              "\n",
              "  <script>\n",
              "    async function quickchart(key) {\n",
              "      const quickchartButtonEl =\n",
              "        document.querySelector('#' + key + ' button');\n",
              "      quickchartButtonEl.disabled = true;  // To prevent multiple clicks.\n",
              "      quickchartButtonEl.classList.add('colab-df-spinner');\n",
              "      try {\n",
              "        const charts = await google.colab.kernel.invokeFunction(\n",
              "            'suggestCharts', [key], {});\n",
              "      } catch (error) {\n",
              "        console.error('Error during call to suggestCharts:', error);\n",
              "      }\n",
              "      quickchartButtonEl.classList.remove('colab-df-spinner');\n",
              "      quickchartButtonEl.classList.add('colab-df-quickchart-complete');\n",
              "    }\n",
              "    (() => {\n",
              "      let quickchartButtonEl =\n",
              "        document.querySelector('#df-82481f4b-95ae-452b-8d46-4b1b225615e2 button');\n",
              "      quickchartButtonEl.style.display =\n",
              "        google.colab.kernel.accessAllowed ? 'block' : 'none';\n",
              "    })();\n",
              "  </script>\n",
              "</div>\n",
              "    </div>\n",
              "  </div>\n"
            ]
          },
          "metadata": {},
          "execution_count": 24
        }
      ]
    },
    {
      "cell_type": "code",
      "source": [
        "print(census_data.info())\n",
        "print(census_data.describe())\n"
      ],
      "metadata": {
        "colab": {
          "base_uri": "https://localhost:8080/"
        },
        "id": "1AZ1eUiX2UCx",
        "outputId": "70c664da-719b-44aa-9f9f-a411e38d16f1"
      },
      "execution_count": null,
      "outputs": [
        {
          "output_type": "stream",
          "name": "stdout",
          "text": [
            "<class 'pandas.core.frame.DataFrame'>\n",
            "RangeIndex: 10083 entries, 0 to 10082\n",
            "Data columns (total 11 columns):\n",
            " #   Column                         Non-Null Count  Dtype \n",
            "---  ------                         --------------  ----- \n",
            " 0   House Number                   10083 non-null  int64 \n",
            " 1   Street                         10083 non-null  object\n",
            " 2   First Name                     10083 non-null  object\n",
            " 3   Surname                        10083 non-null  object\n",
            " 4   Age                            10083 non-null  object\n",
            " 5   Relationship to Head of House  10083 non-null  object\n",
            " 6   Marital Status                 7526 non-null   object\n",
            " 7   Gender                         10083 non-null  object\n",
            " 8   Occupation                     10083 non-null  object\n",
            " 9   Infirmity                      10083 non-null  object\n",
            " 10  Religion                       7463 non-null   object\n",
            "dtypes: int64(1), object(10)\n",
            "memory usage: 866.6+ KB\n",
            "None\n",
            "       House Number\n",
            "count  10083.000000\n",
            "mean      46.840920\n",
            "std       53.003405\n",
            "min        1.000000\n",
            "25%       11.000000\n",
            "50%       25.000000\n",
            "75%       57.000000\n",
            "max      229.000000\n"
          ]
        }
      ]
    },
    {
      "cell_type": "markdown",
      "source": [
        "Check the data types, missing values, and basic statistics."
      ],
      "metadata": {
        "id": "gH8NtixpzKiF"
      }
    },
    {
      "cell_type": "markdown",
      "source": [
        "Recognise and deal with missing values. Missing values can be filled in with the right techniques or dropped from rows or columns."
      ],
      "metadata": {
        "id": "RqugHCCVz8vo"
      }
    },
    {
      "cell_type": "code",
      "source": [
        "# Drop rows with any missing values\n",
        "census_data = census_data.dropna()\n",
        "\n",
        "# Fill missing values with a specific value\n",
        "# census_data = census_data.fillna(value)\n"
      ],
      "metadata": {
        "id": "zECK8T_E2eus"
      },
      "execution_count": null,
      "outputs": []
    },
    {
      "cell_type": "code",
      "source": [
        "census_data = census_data.drop_duplicates()\n"
      ],
      "metadata": {
        "id": "i4juHkao2nZO"
      },
      "execution_count": null,
      "outputs": []
    },
    {
      "cell_type": "markdown",
      "source": [
        "Find any duplicate rows and delete them."
      ],
      "metadata": {
        "id": "EwCkEv7L2ws7"
      }
    },
    {
      "cell_type": "code",
      "source": [
        "import pandas as pd\n",
        "from scipy import stats\n",
        "\n",
        "# Load the dataset\n",
        "file_path = '/content/drive/MyDrive/census03.csv'\n",
        "census_data = pd.read_csv(file_path)\n",
        "\n",
        "# Convert 'Age' column to numeric, replacing non-numeric values with NaN\n",
        "census_data['Age'] = pd.to_numeric(census_data['Age'], errors='coerce')\n",
        "\n",
        "# Calculate Z-scores for 'Age' column\n",
        "z_scores = stats.zscore(census_data['Age'])\n",
        "\n",
        "# Set a threshold for identifying outliers (e.g., Z-score > 3 or Z-score < -3)\n",
        "outlier_threshold = 3\n",
        "outliers = (z_scores > outlier_threshold) | (z_scores < -outlier_threshold)\n",
        "\n",
        "# Handle outliers by replacing them with NaN or a predefined value\n",
        "census_data.loc[outliers, 'Age'] = None  # Replace with NaN\n",
        "\n",
        "# Impute missing values (replace NaN with a suitable fill value or using other imputation methods)\n",
        "census_data['Age'].fillna(census_data['Age'].median(), inplace=True)\n",
        "\n",
        "# Convert 'Age' column to integer\n",
        "census_data['Age'] = census_data['Age'].astype(int)\n",
        "\n",
        "# Additional steps, if needed:\n",
        "# - Replace outliers with a predefined value\n",
        "# - Apply other statistical methods based on the dataset characteristics\n"
      ],
      "metadata": {
        "id": "8cz55yU69Liq"
      },
      "execution_count": null,
      "outputs": []
    },
    {
      "cell_type": "markdown",
      "source": [
        "The 'Age' column is converted to an integer by this code after missing values are imputed (the median is used to replace NaN). Adapt the imputation technique to the properties of your data and the needs of your study."
      ],
      "metadata": {
        "id": "nVXbvIUa9mAf"
      }
    },
    {
      "cell_type": "code",
      "source": [
        "import pandas as pd\n",
        "import seaborn as sns\n",
        "import matplotlib.pyplot as plt\n",
        "\n",
        "# Load the dataset\n",
        "file_path = '/content/drive/MyDrive/census03.csv'\n",
        "census_data = pd.read_csv(file_path)\n",
        "\n",
        "# Select columns for the correlation matrix\n",
        "selected_columns = ['Age', 'Occupation', 'Gender', 'Religion']\n",
        "\n",
        "# Create a subset of the data with selected columns\n",
        "subset_data = census_data[selected_columns]\n",
        "\n",
        "# Encode categorical columns if needed\n",
        "subset_data_encoded = pd.get_dummies(subset_data)\n",
        "\n",
        "# Calculate the correlation matrix\n",
        "correlation_matrix = subset_data_encoded.corr()\n",
        "\n",
        "# Set up the matplotlib figure\n",
        "plt.figure(figsize=(10, 8))\n",
        "\n",
        "# Create a heatmap using Seaborn\n",
        "sns.heatmap(correlation_matrix, annot=True, cmap='coolwarm', fmt=\".2f\", linewidths=.5)\n",
        "\n",
        "# Show the plot\n",
        "plt.title('Correlation Matrix')\n",
        "plt.show()\n"
      ],
      "metadata": {
        "id": "EQ9EDPIS-f9k"
      },
      "execution_count": null,
      "outputs": []
    },
    {
      "cell_type": "markdown",
      "source": [
        "**Question 1**\n",
        "\n",
        "One way to answer the question of whether high-density housing should be developed on an empty plot of land is to examine the dataset and determine the features and growth of the population. Gender, occupation, and age distribution are important considerations."
      ],
      "metadata": {
        "id": "THSgoNaDJyU8"
      }
    },
    {
      "cell_type": "code",
      "source": [
        "import pandas as pd\n",
        "import matplotlib.pyplot as plt\n",
        "\n",
        "# Assuming your dataset is stored in a DataFrame named 'census_data'\n",
        "# Replace 'census_data.csv' with your actual file path if needed\n",
        "# Load the dataset\n",
        "file_path = '/content/drive/MyDrive/census03.csv'\n",
        "census_data = pd.read_csv(file_path)\n",
        "\n",
        "# Convert 'Age' column to numeric, handling errors by coercing non-numeric values to NaN\n",
        "census_data['Age'] = pd.to_numeric(census_data['Age'], errors='coerce')\n",
        "\n",
        "# Drop rows with NaN values in the 'Age' column\n",
        "census_data = census_data.dropna(subset=['Age'])\n",
        "\n",
        "# Plot the distribution of ages\n",
        "plt.figure(figsize=(10, 6))\n",
        "plt.hist(census_data['Age'], bins=20, color='skyblue', edgecolor='black')\n",
        "plt.title('Distribution of Ages in the Census Data')\n",
        "plt.xlabel('Age')\n",
        "plt.ylabel('Frequency')\n",
        "plt.show()\n"
      ],
      "metadata": {
        "colab": {
          "base_uri": "https://localhost:8080/",
          "height": 564
        },
        "id": "nWf3m_qZD1KX",
        "outputId": "a78fab1c-1b64-440d-8d2c-ede2e88a0ec4"
      },
      "execution_count": null,
      "outputs": [
        {
          "output_type": "display_data",
          "data": {
            "text/plain": [
              "<Figure size 1000x600 with 1 Axes>"
            ],
            "image/png": "[encoded data removed]"
          },
          "metadata": {}
        }
      ]
    },
    {
      "cell_type": "code",
      "source": [
        "import pandas as pd\n",
        "\n",
        "# Load the dataset\n",
        "file_path = '/content/drive/MyDrive/census03.csv'\n",
        "census_data = pd.read_csv(file_path)\n",
        "\n",
        "# Display unique values in the 'Occupation' column\n",
        "unique_occupations = census_data['Occupation'].unique()\n",
        "print(\"Unique Occupations:\")\n",
        "print(unique_occupations)\n",
        "\n",
        "# Count the occurrences of each occupation\n",
        "occupation_counts = census_data['Occupation'].value_counts()\n",
        "print(\"\\nOccupation Counts:\")\n",
        "print(occupation_counts)\n",
        "\n",
        "# Visualize the top N occupations\n",
        "top_n_occupations = 10  # Adjust as needed\n",
        "top_occupations = occupation_counts.head(top_n_occupations)\n",
        "\n",
        "# Plot the top N occupations\n",
        "top_occupations.plot(kind='bar', edgecolor='black', figsize=(10, 6))\n",
        "plt.xlabel('Occupation')\n",
        "plt.ylabel('Count')\n",
        "plt.title(f'Top {top_n_occupations} Occupations')\n",
        "plt.show()\n"
      ],
      "metadata": {
        "colab": {
          "base_uri": "https://localhost:8080/",
          "height": 1000
        },
        "id": "iMvvmaFaGj2w",
        "outputId": "13b95f76-9b7e-4a36-c5a2-756ea2b689ff"
      },
      "execution_count": null,
      "outputs": [
        {
          "output_type": "stream",
          "name": "stdout",
          "text": [
            "Unique Occupations:\n",
            "['Media planner' 'University Student' 'Professor Emeritus' ...\n",
            " 'Retired Health visitor' 'Retired Advertising copywriter'\n",
            " 'Retired Chartered management accountant']\n",
            "\n",
            "Occupation Counts:\n",
            "Student                                                      2040\n",
            "Unemployed                                                    660\n",
            "University Student                                            648\n",
            "Child                                                         647\n",
            "PhD Student                                                    22\n",
            "                                                             ... \n",
            "Retired Dentist                                                 1\n",
            "Retired Emergency planning/management officer                   1\n",
            "Retired Historic buildings inspector/conservation officer       1\n",
            "Retired Magazine journalist                                     1\n",
            "Retired Chartered management accountant                         1\n",
            "Name: Occupation, Length: 1079, dtype: int64\n"
          ]
        },
        {
          "output_type": "display_data",
          "data": {
            "text/plain": [
              "<Figure size 1000x600 with 1 Axes>"
            ],
            "image/png": "[encoded data removed]"
          },
          "metadata": {}
        }
      ]
    },
    {
      "cell_type": "markdown",
      "source": [
        "This code snippet counts the occurrences of each unique occupation in the dataset, presents an overview of those jobs, and creates a bar chart to show the top N occupations. Depending on your preferences, you can change the top_n_occupations variable to display more or fewer top occupations."
      ],
      "metadata": {
        "id": "S3sIl1XIHrNb"
      }
    },
    {
      "cell_type": "code",
      "source": [
        "import pandas as pd\n",
        "import matplotlib.pyplot as plt\n",
        "\n",
        "# Load the dataset\n",
        "file_path = '/content/drive/MyDrive/census03.csv'\n",
        "census_data = pd.read_csv(file_path)\n",
        "\n",
        "# Count the occurrences of each gender\n",
        "gender_counts = census_data['Gender'].value_counts()\n",
        "\n",
        "# Plot the gender distribution\n",
        "gender_counts.plot(kind='pie', autopct='%1.1f%%', startangle=90, colors=['lightblue', 'lightcoral'], figsize=(8, 8))\n",
        "plt.title('Gender Distribution')\n",
        "plt.show()\n"
      ],
      "metadata": {
        "colab": {
          "base_uri": "https://localhost:8080/",
          "height": 675
        },
        "id": "eSQ9uR_MHcuc",
        "outputId": "453de8e8-37a2-43e7-f24f-8ded596cf21e"
      },
      "execution_count": null,
      "outputs": [
        {
          "output_type": "display_data",
          "data": {
            "text/plain": [
              "<Figure size 800x800 with 1 Axes>"
            ],
            "image/png": "[encoded data removed]"
          },
          "metadata": {}
        }
      ]
    },
    {
      "cell_type": "markdown",
      "source": [
        "The snippet of code reads the dataset, counts the occurrences of each gender, and creates a pie chart to show the gender distribution. A visual depiction of the percentage of each gender in the dataset is given by the pie chart."
      ],
      "metadata": {
        "id": "ouXe3xJCH2q1"
      }
    },
    {
      "cell_type": "code",
      "source": [
        "import pandas as pd\n",
        "import matplotlib.pyplot as plt\n",
        "\n",
        "# Load the dataset\n",
        "file_path = '/content/drive/MyDrive/census03.csv'\n",
        "census_data = pd.read_csv(file_path)\n",
        "\n",
        "# Count the occurrences of each marital status\n",
        "marital_status_counts = census_data['Marital Status'].value_counts()\n",
        "\n",
        "# Plot the marital status distribution\n",
        "marital_status_counts.plot(kind='bar', color='skyblue', figsize=(10, 6))\n",
        "plt.title('Marital Status Distribution')\n",
        "plt.xlabel('Marital Status')\n",
        "plt.ylabel('Count')\n",
        "plt.show()\n"
      ],
      "metadata": {
        "colab": {
          "base_uri": "https://localhost:8080/",
          "height": 614
        },
        "id": "FDc2mFO7IyBv",
        "outputId": "7a18a7f2-cfb2-4b9f-bdc0-3d18ff51d0a8"
      },
      "execution_count": null,
      "outputs": [
        {
          "output_type": "display_data",
          "data": {
            "text/plain": [
              "<Figure size 1000x600 with 1 Axes>"
            ],
            "image/png": "[encoded data removed]"
          },
          "metadata": {}
        }
      ]
    },
    {
      "cell_type": "markdown",
      "source": [
        "This little piece of code reads the dataset, counts the instances of each marital status, and uses a bar chart to display the distribution of marital statuses. An understanding of the distribution of people according to marital status can be gained from the bar chart."
      ],
      "metadata": {
        "id": "N7ciOCDoJAng"
      }
    },
    {
      "cell_type": "markdown",
      "source": [
        "**Question 2**\n",
        "\n",
        "You can do a more thorough study of the dataset to determine whether low-density housing should be developed, particularly if the population is \"affluent\" and there is a need for large family homes. Examine variables like family size, income, and composition of the household."
      ],
      "metadata": {
        "id": "zbiCR2hmMViM"
      }
    },
    {
      "cell_type": "code",
      "source": [
        "import pandas as pd\n",
        "import matplotlib.pyplot as plt\n",
        "\n",
        "# Load the dataset\n",
        "file_path = '/content/drive/MyDrive/census03.csv'\n",
        "census_data = pd.read_csv(file_path)\n",
        "\n",
        "# Explore age distribution\n",
        "plt.figure(figsize=(10, 6))\n",
        "census_data['Age'] = pd.to_numeric(census_data['Age'], errors='coerce')\n",
        "census_data['Age'].hist(bins=20, color='lightcoral', edgecolor='black')\n",
        "plt.title('Age Distribution')\n",
        "plt.xlabel('Age')\n",
        "plt.ylabel('Count')\n",
        "plt.show()\n",
        "\n",
        "# Explore marital status\n",
        "marital_status_counts = census_data['Marital Status'].value_counts()\n",
        "marital_status_counts.plot(kind='bar', color='lightblue', figsize=(10, 6))\n",
        "plt.title('Marital Status Distribution')\n",
        "plt.xlabel('Marital Status')\n",
        "plt.ylabel('Count')\n",
        "plt.show()\n",
        "\n",
        "# Plot the top N occupations\n",
        "top_occupations.plot(kind='bar', edgecolor='black', figsize=(10, 6))\n",
        "plt.xlabel('Occupation')\n",
        "plt.ylabel('Count')\n",
        "plt.title(f'Top {top_n_occupations} Occupations')\n",
        "plt.show()\n",
        "\n"
      ],
      "metadata": {
        "colab": {
          "base_uri": "https://localhost:8080/",
          "height": 1000
        },
        "id": "L8hsLPkrLHJt",
        "outputId": "46c0d81f-d558-420e-bfb6-57caa442477a"
      },
      "execution_count": null,
      "outputs": [
        {
          "output_type": "display_data",
          "data": {
            "text/plain": [
              "<Figure size 1000x600 with 1 Axes>"
            ],
            "image/png": "[encoded data removed]"
          },
          "metadata": {}
        },
        {
          "output_type": "display_data",
          "data": {
            "text/plain": [
              "<Figure size 1000x600 with 1 Axes>"
            ],
            "image/png": "[encoded data removed]"
          },
          "metadata": {}
        },
        {
          "output_type": "display_data",
          "data": {
            "text/plain": [
              "<Figure size 1000x600 with 1 Axes>"
            ],
            "image/png": "[encoded data removed]"
          },
          "metadata": {}
        }
      ]
    },
    {
      "cell_type": "markdown",
      "source": [
        "Question 3\n",
        "\n",
        "Finding commuters in the provided dataset may be difficult, especially in the absence of specifics like travel patterns or columns pertaining to commutes. But I can speculate and investigate certain aspects that would suggest a population of commuters in a roundabout way. These are some recommendations:\n",
        "\n",
        "**Occupation:** Look through the occupation column to see which professions or kinds of jobs are usually related to working from home.\n",
        "Occupations in remote or larger cities may indicate commute habits.\n",
        "**Age and Employment:** Examine the age distribution, paying particular attention to those in the working-age range (those between the ages of 20 and 65, for example).\n",
        "\n",
        "**Marital Status:** Compared to non-commuters, commuters may exhibit distinct patterns of marital status, such as being single or having a different marital status.\n",
        "**home Number:** Examining the distribution of home numbers may show patterns pertaining to closeness to transportation hubs, even though it may not directly reflect commuting."
      ],
      "metadata": {
        "id": "eG8GCEO7NLHJ"
      }
    },
    {
      "cell_type": "code",
      "source": [
        "plt.figure(figsize=(10, 6))\n",
        "census_data['Marital Status'].value_counts().plot(kind='bar', color='lightblue', edgecolor='black')\n",
        "plt.title('Marital Status Distribution')\n",
        "plt.xlabel('Marital Status')\n",
        "plt.ylabel('Count')\n",
        "plt.show()\n"
      ],
      "metadata": {
        "colab": {
          "base_uri": "https://localhost:8080/",
          "height": 614
        },
        "id": "UhuzVyNjPXep",
        "outputId": "5b912856-cf37-468d-b5f3-6fcd4122ddd8"
      },
      "execution_count": null,
      "outputs": [
        {
          "output_type": "display_data",
          "data": {
            "text/plain": [
              "<Figure size 1000x600 with 1 Axes>"
            ],
            "image/png": "[encoded data removed]"
          },
          "metadata": {}
        }
      ]
    },
    {
      "cell_type": "code",
      "source": [
        "plt.figure(figsize=(6, 6))\n",
        "census_data['Gender'].value_counts().plot(kind='pie', autopct='%1.1f%%', colors=['lightblue', 'lightcoral'])\n",
        "plt.title('Gender Distribution')\n",
        "plt.show()\n"
      ],
      "metadata": {
        "colab": {
          "base_uri": "https://localhost:8080/",
          "height": 521
        },
        "id": "GvCzHzDKPfQ3",
        "outputId": "1fe18c6b-90fa-4a8e-a5c8-ce5ac3a8de1f"
      },
      "execution_count": null,
      "outputs": [
        {
          "output_type": "display_data",
          "data": {
            "text/plain": [
              "<Figure size 600x600 with 1 Axes>"
            ],
            "image/png": "[encoded data removed]"
          },
          "metadata": {}
        }
      ]
    },
    {
      "cell_type": "markdown",
      "source": [
        "Question 4\n",
        "\n",
        "You can examine the dataset's \"Religion\" column to determine the demand for religious buildings, especially for a second church or another type of religious building. This is one possible strategy:\n",
        "You may see an outline of the distribution of the various religions in the town by looking at this visualisation. Determining the predominant religion and the presence of religious diversity could be aided by it. You can also look for any individual denominations that fall under a given religion."
      ],
      "metadata": {
        "id": "GbkqUl9YQFym"
      }
    },
    {
      "cell_type": "code",
      "source": [
        "import matplotlib.pyplot as plt\n",
        "\n",
        "# Explore the distribution of religions in the dataset\n",
        "plt.figure(figsize=(10, 6))\n",
        "census_data['Religion'].value_counts().plot(kind='bar', color='lightgreen', edgecolor='black')\n",
        "plt.title('Religion Distribution')\n",
        "plt.xlabel('Religion')\n",
        "plt.ylabel('Count')\n",
        "plt.show()\n"
      ],
      "metadata": {
        "colab": {
          "base_uri": "https://localhost:8080/",
          "height": 641
        },
        "id": "5fkP4RQUQXFj",
        "outputId": "8d8643a1-f303-40d1-b87e-0272bcb5645f"
      },
      "execution_count": null,
      "outputs": [
        {
          "output_type": "display_data",
          "data": {
            "text/plain": [
              "<Figure size 1000x600 with 1 Axes>"
            ],
            "image/png": "[encoded data removed]"
          },
          "metadata": {}
        }
      ]
    }
  ]
}